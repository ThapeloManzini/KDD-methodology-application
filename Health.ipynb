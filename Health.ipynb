{
 "cells": [
  {
   "cell_type": "code",
   "execution_count": 569,
   "metadata": {
    "id": "lBPiLpwtxpu1"
   },
   "outputs": [],
   "source": [
    "import pandas as pd\n",
    "import numpy as np\n",
    "import matplotlib.pyplot as plt\n",
    "import seaborn as sns"
   ]
  },
  {
   "cell_type": "code",
   "execution_count": 571,
   "metadata": {
    "id": "uUYsQOr43PWu"
   },
   "outputs": [],
   "source": [
    "# For NLP\n",
    "import nltk\n",
    "from nltk.tokenize import word_tokenize\n",
    "from nltk.stem import WordNetLemmatizer\n",
    "from sklearn.feature_extraction.text import TfidfVectorizer\n",
    "from nltk.corpus import stopwords"
   ]
  },
  {
   "cell_type": "code",
   "execution_count": 573,
   "metadata": {
    "id": "SUhdHIoK3S6w"
   },
   "outputs": [],
   "source": [
    "# ML Libraries\n",
    "from sklearn.model_selection import train_test_split\n",
    "from sklearn.metrics import f1_score\n",
    "from sklearn.utils import resample"
   ]
  },
  {
   "cell_type": "code",
   "execution_count": 575,
   "metadata": {
    "id": "OO2WDeeD3ZDv"
   },
   "outputs": [],
   "source": [
    "# Classification Models\n",
    "from sklearn.ensemble import RandomForestClassifier\n",
    "from sklearn.linear_model import LogisticRegression\n",
    "from sklearn.svm import SVC\n",
    "from sklearn.naive_bayes import MultinomialNB\n",
    "from sklearn.neighbors import KNeighborsClassifier"
   ]
  },
  {
   "cell_type": "code",
   "execution_count": 577,
   "metadata": {
    "colab": {
     "base_uri": "https://localhost:8080/"
    },
    "id": "GhvwbQZK3dlC",
    "outputId": "c46c006c-6093-4b48-f01e-83aacd6da51a"
   },
   "outputs": [
    {
     "name": "stderr",
     "output_type": "stream",
     "text": [
      "[nltk_data] Downloading package punkt to\n",
      "[nltk_data]     C:\\Users\\NWUUSER\\AppData\\Roaming\\nltk_data...\n",
      "[nltk_data]   Package punkt is already up-to-date!\n",
      "[nltk_data] Downloading package wordnet to\n",
      "[nltk_data]     C:\\Users\\NWUUSER\\AppData\\Roaming\\nltk_data...\n",
      "[nltk_data]   Package wordnet is already up-to-date!\n",
      "[nltk_data] Downloading package stopwords to\n",
      "[nltk_data]     C:\\Users\\NWUUSER\\AppData\\Roaming\\nltk_data...\n",
      "[nltk_data]   Package stopwords is already up-to-date!\n"
     ]
    },
    {
     "data": {
      "text/plain": [
       "True"
      ]
     },
     "execution_count": 577,
     "metadata": {},
     "output_type": "execute_result"
    }
   ],
   "source": [
    "# Download required resources\n",
    "nltk.download('punkt')\n",
    "nltk.download('wordnet')\n",
    "nltk.download('stopwords')"
   ]
  },
  {
   "cell_type": "code",
   "execution_count": 578,
   "metadata": {},
   "outputs": [],
   "source": [
    "data=pd.read_csv(r\"C:\\Users\\NWUUSER\\Downloads\\kdd\\meta.csv\",nrows=10000)"
   ]
  },
  {
   "cell_type": "code",
   "execution_count": 581,
   "metadata": {
    "colab": {
     "base_uri": "https://localhost:8080/",
     "height": 690
    },
    "id": "9d4CFKHY7n4x",
    "outputId": "98dee4d2-a5c5-48b8-adad-e1cd3ef830dc"
   },
   "outputs": [
    {
     "data": {
      "text/html": [
       "<div>\n",
       "<style scoped>\n",
       "    .dataframe tbody tr th:only-of-type {\n",
       "        vertical-align: middle;\n",
       "    }\n",
       "\n",
       "    .dataframe tbody tr th {\n",
       "        vertical-align: top;\n",
       "    }\n",
       "\n",
       "    .dataframe thead th {\n",
       "        text-align: right;\n",
       "    }\n",
       "</style>\n",
       "<table border=\"1\" class=\"dataframe\">\n",
       "  <thead>\n",
       "    <tr style=\"text-align: right;\">\n",
       "      <th></th>\n",
       "      <th>SeriesInstanceUID</th>\n",
       "      <th>StudyInstanceUID</th>\n",
       "      <th>Modality</th>\n",
       "      <th>SeriesDescription</th>\n",
       "      <th>BodyPartExamined</th>\n",
       "      <th>SeriesNumber</th>\n",
       "      <th>Collection</th>\n",
       "      <th>Visibility</th>\n",
       "      <th>ImageCount</th>\n",
       "    </tr>\n",
       "  </thead>\n",
       "  <tbody>\n",
       "    <tr>\n",
       "      <th>0</th>\n",
       "      <td>1.3.6.1.4.1.9590.100.1.2.117041576511324414842...</td>\n",
       "      <td>1.3.6.1.4.1.9590.100.1.2.229361142710768138411...</td>\n",
       "      <td>MG</td>\n",
       "      <td>ROI mask images</td>\n",
       "      <td>BREAST</td>\n",
       "      <td>1</td>\n",
       "      <td>CBIS-DDSM</td>\n",
       "      <td>1</td>\n",
       "      <td>2</td>\n",
       "    </tr>\n",
       "    <tr>\n",
       "      <th>1</th>\n",
       "      <td>1.3.6.1.4.1.9590.100.1.2.438738396107617880132...</td>\n",
       "      <td>1.3.6.1.4.1.9590.100.1.2.195593486612988388325...</td>\n",
       "      <td>MG</td>\n",
       "      <td>ROI mask images</td>\n",
       "      <td>BREAST</td>\n",
       "      <td>1</td>\n",
       "      <td>CBIS-DDSM</td>\n",
       "      <td>1</td>\n",
       "      <td>2</td>\n",
       "    </tr>\n",
       "    <tr>\n",
       "      <th>2</th>\n",
       "      <td>1.3.6.1.4.1.9590.100.1.2.767416741131676463382...</td>\n",
       "      <td>1.3.6.1.4.1.9590.100.1.2.257901172612530623323...</td>\n",
       "      <td>MG</td>\n",
       "      <td>ROI mask images</td>\n",
       "      <td>BREAST</td>\n",
       "      <td>1</td>\n",
       "      <td>CBIS-DDSM</td>\n",
       "      <td>1</td>\n",
       "      <td>2</td>\n",
       "    </tr>\n",
       "    <tr>\n",
       "      <th>3</th>\n",
       "      <td>1.3.6.1.4.1.9590.100.1.2.296931352612305599800...</td>\n",
       "      <td>1.3.6.1.4.1.9590.100.1.2.109468616710242115222...</td>\n",
       "      <td>MG</td>\n",
       "      <td>ROI mask images</td>\n",
       "      <td>BREAST</td>\n",
       "      <td>1</td>\n",
       "      <td>CBIS-DDSM</td>\n",
       "      <td>1</td>\n",
       "      <td>2</td>\n",
       "    </tr>\n",
       "    <tr>\n",
       "      <th>4</th>\n",
       "      <td>1.3.6.1.4.1.9590.100.1.2.436657670120353100077...</td>\n",
       "      <td>1.3.6.1.4.1.9590.100.1.2.380627129513562450304...</td>\n",
       "      <td>MG</td>\n",
       "      <td>ROI mask images</td>\n",
       "      <td>BREAST</td>\n",
       "      <td>1</td>\n",
       "      <td>CBIS-DDSM</td>\n",
       "      <td>1</td>\n",
       "      <td>2</td>\n",
       "    </tr>\n",
       "  </tbody>\n",
       "</table>\n",
       "</div>"
      ],
      "text/plain": [
       "                                   SeriesInstanceUID  \\\n",
       "0  1.3.6.1.4.1.9590.100.1.2.117041576511324414842...   \n",
       "1  1.3.6.1.4.1.9590.100.1.2.438738396107617880132...   \n",
       "2  1.3.6.1.4.1.9590.100.1.2.767416741131676463382...   \n",
       "3  1.3.6.1.4.1.9590.100.1.2.296931352612305599800...   \n",
       "4  1.3.6.1.4.1.9590.100.1.2.436657670120353100077...   \n",
       "\n",
       "                                    StudyInstanceUID Modality  \\\n",
       "0  1.3.6.1.4.1.9590.100.1.2.229361142710768138411...       MG   \n",
       "1  1.3.6.1.4.1.9590.100.1.2.195593486612988388325...       MG   \n",
       "2  1.3.6.1.4.1.9590.100.1.2.257901172612530623323...       MG   \n",
       "3  1.3.6.1.4.1.9590.100.1.2.109468616710242115222...       MG   \n",
       "4  1.3.6.1.4.1.9590.100.1.2.380627129513562450304...       MG   \n",
       "\n",
       "  SeriesDescription BodyPartExamined  SeriesNumber Collection  Visibility  \\\n",
       "0   ROI mask images           BREAST             1  CBIS-DDSM           1   \n",
       "1   ROI mask images           BREAST             1  CBIS-DDSM           1   \n",
       "2   ROI mask images           BREAST             1  CBIS-DDSM           1   \n",
       "3   ROI mask images           BREAST             1  CBIS-DDSM           1   \n",
       "4   ROI mask images           BREAST             1  CBIS-DDSM           1   \n",
       "\n",
       "   ImageCount  \n",
       "0           2  \n",
       "1           2  \n",
       "2           2  \n",
       "3           2  \n",
       "4           2  "
      ]
     },
     "execution_count": 581,
     "metadata": {},
     "output_type": "execute_result"
    }
   ],
   "source": [
    "data.head()"
   ]
  },
  {
   "cell_type": "code",
   "execution_count": 583,
   "metadata": {},
   "outputs": [
    {
     "data": {
      "text/plain": [
       "SeriesInstanceUID    0\n",
       "StudyInstanceUID     0\n",
       "Modality             0\n",
       "SeriesDescription    0\n",
       "BodyPartExamined     0\n",
       "SeriesNumber         0\n",
       "Collection           0\n",
       "Visibility           0\n",
       "ImageCount           0\n",
       "dtype: int64"
      ]
     },
     "execution_count": 583,
     "metadata": {},
     "output_type": "execute_result"
    }
   ],
   "source": [
    "data.isnull().sum()"
   ]
  },
  {
   "cell_type": "code",
   "execution_count": 585,
   "metadata": {},
   "outputs": [
    {
     "data": {
      "text/html": [
       "<div>\n",
       "<style scoped>\n",
       "    .dataframe tbody tr th:only-of-type {\n",
       "        vertical-align: middle;\n",
       "    }\n",
       "\n",
       "    .dataframe tbody tr th {\n",
       "        vertical-align: top;\n",
       "    }\n",
       "\n",
       "    .dataframe thead th {\n",
       "        text-align: right;\n",
       "    }\n",
       "</style>\n",
       "<table border=\"1\" class=\"dataframe\">\n",
       "  <thead>\n",
       "    <tr style=\"text-align: right;\">\n",
       "      <th></th>\n",
       "      <th>SeriesInstanceUID</th>\n",
       "      <th>StudyInstanceUID</th>\n",
       "      <th>Modality</th>\n",
       "      <th>SeriesDescription</th>\n",
       "      <th>BodyPartExamined</th>\n",
       "      <th>SeriesNumber</th>\n",
       "      <th>Collection</th>\n",
       "      <th>Visibility</th>\n",
       "      <th>ImageCount</th>\n",
       "    </tr>\n",
       "  </thead>\n",
       "  <tbody>\n",
       "    <tr>\n",
       "      <th>count</th>\n",
       "      <td>1000</td>\n",
       "      <td>1000</td>\n",
       "      <td>1000</td>\n",
       "      <td>1000</td>\n",
       "      <td>1000</td>\n",
       "      <td>1000.0</td>\n",
       "      <td>1000</td>\n",
       "      <td>1000.0</td>\n",
       "      <td>1000.000000</td>\n",
       "    </tr>\n",
       "    <tr>\n",
       "      <th>unique</th>\n",
       "      <td>1000</td>\n",
       "      <td>1000</td>\n",
       "      <td>1</td>\n",
       "      <td>3</td>\n",
       "      <td>1</td>\n",
       "      <td>NaN</td>\n",
       "      <td>1</td>\n",
       "      <td>NaN</td>\n",
       "      <td>NaN</td>\n",
       "    </tr>\n",
       "    <tr>\n",
       "      <th>top</th>\n",
       "      <td>1.3.6.1.4.1.9590.100.1.2.117041576511324414842...</td>\n",
       "      <td>1.3.6.1.4.1.9590.100.1.2.229361142710768138411...</td>\n",
       "      <td>MG</td>\n",
       "      <td>ROI mask images</td>\n",
       "      <td>BREAST</td>\n",
       "      <td>NaN</td>\n",
       "      <td>CBIS-DDSM</td>\n",
       "      <td>NaN</td>\n",
       "      <td>NaN</td>\n",
       "    </tr>\n",
       "    <tr>\n",
       "      <th>freq</th>\n",
       "      <td>1</td>\n",
       "      <td>1</td>\n",
       "      <td>1000</td>\n",
       "      <td>906</td>\n",
       "      <td>1000</td>\n",
       "      <td>NaN</td>\n",
       "      <td>1000</td>\n",
       "      <td>NaN</td>\n",
       "      <td>NaN</td>\n",
       "    </tr>\n",
       "    <tr>\n",
       "      <th>mean</th>\n",
       "      <td>NaN</td>\n",
       "      <td>NaN</td>\n",
       "      <td>NaN</td>\n",
       "      <td>NaN</td>\n",
       "      <td>NaN</td>\n",
       "      <td>1.0</td>\n",
       "      <td>NaN</td>\n",
       "      <td>1.0</td>\n",
       "      <td>1.841000</td>\n",
       "    </tr>\n",
       "    <tr>\n",
       "      <th>std</th>\n",
       "      <td>NaN</td>\n",
       "      <td>NaN</td>\n",
       "      <td>NaN</td>\n",
       "      <td>NaN</td>\n",
       "      <td>NaN</td>\n",
       "      <td>0.0</td>\n",
       "      <td>NaN</td>\n",
       "      <td>0.0</td>\n",
       "      <td>0.365859</td>\n",
       "    </tr>\n",
       "    <tr>\n",
       "      <th>min</th>\n",
       "      <td>NaN</td>\n",
       "      <td>NaN</td>\n",
       "      <td>NaN</td>\n",
       "      <td>NaN</td>\n",
       "      <td>NaN</td>\n",
       "      <td>1.0</td>\n",
       "      <td>NaN</td>\n",
       "      <td>1.0</td>\n",
       "      <td>1.000000</td>\n",
       "    </tr>\n",
       "    <tr>\n",
       "      <th>25%</th>\n",
       "      <td>NaN</td>\n",
       "      <td>NaN</td>\n",
       "      <td>NaN</td>\n",
       "      <td>NaN</td>\n",
       "      <td>NaN</td>\n",
       "      <td>1.0</td>\n",
       "      <td>NaN</td>\n",
       "      <td>1.0</td>\n",
       "      <td>2.000000</td>\n",
       "    </tr>\n",
       "    <tr>\n",
       "      <th>50%</th>\n",
       "      <td>NaN</td>\n",
       "      <td>NaN</td>\n",
       "      <td>NaN</td>\n",
       "      <td>NaN</td>\n",
       "      <td>NaN</td>\n",
       "      <td>1.0</td>\n",
       "      <td>NaN</td>\n",
       "      <td>1.0</td>\n",
       "      <td>2.000000</td>\n",
       "    </tr>\n",
       "    <tr>\n",
       "      <th>75%</th>\n",
       "      <td>NaN</td>\n",
       "      <td>NaN</td>\n",
       "      <td>NaN</td>\n",
       "      <td>NaN</td>\n",
       "      <td>NaN</td>\n",
       "      <td>1.0</td>\n",
       "      <td>NaN</td>\n",
       "      <td>1.0</td>\n",
       "      <td>2.000000</td>\n",
       "    </tr>\n",
       "    <tr>\n",
       "      <th>max</th>\n",
       "      <td>NaN</td>\n",
       "      <td>NaN</td>\n",
       "      <td>NaN</td>\n",
       "      <td>NaN</td>\n",
       "      <td>NaN</td>\n",
       "      <td>1.0</td>\n",
       "      <td>NaN</td>\n",
       "      <td>1.0</td>\n",
       "      <td>2.000000</td>\n",
       "    </tr>\n",
       "  </tbody>\n",
       "</table>\n",
       "</div>"
      ],
      "text/plain": [
       "                                        SeriesInstanceUID  \\\n",
       "count                                                1000   \n",
       "unique                                               1000   \n",
       "top     1.3.6.1.4.1.9590.100.1.2.117041576511324414842...   \n",
       "freq                                                    1   \n",
       "mean                                                  NaN   \n",
       "std                                                   NaN   \n",
       "min                                                   NaN   \n",
       "25%                                                   NaN   \n",
       "50%                                                   NaN   \n",
       "75%                                                   NaN   \n",
       "max                                                   NaN   \n",
       "\n",
       "                                         StudyInstanceUID Modality  \\\n",
       "count                                                1000     1000   \n",
       "unique                                               1000        1   \n",
       "top     1.3.6.1.4.1.9590.100.1.2.229361142710768138411...       MG   \n",
       "freq                                                    1     1000   \n",
       "mean                                                  NaN      NaN   \n",
       "std                                                   NaN      NaN   \n",
       "min                                                   NaN      NaN   \n",
       "25%                                                   NaN      NaN   \n",
       "50%                                                   NaN      NaN   \n",
       "75%                                                   NaN      NaN   \n",
       "max                                                   NaN      NaN   \n",
       "\n",
       "       SeriesDescription BodyPartExamined  SeriesNumber Collection  \\\n",
       "count               1000             1000        1000.0       1000   \n",
       "unique                 3                1           NaN          1   \n",
       "top      ROI mask images           BREAST           NaN  CBIS-DDSM   \n",
       "freq                 906             1000           NaN       1000   \n",
       "mean                 NaN              NaN           1.0        NaN   \n",
       "std                  NaN              NaN           0.0        NaN   \n",
       "min                  NaN              NaN           1.0        NaN   \n",
       "25%                  NaN              NaN           1.0        NaN   \n",
       "50%                  NaN              NaN           1.0        NaN   \n",
       "75%                  NaN              NaN           1.0        NaN   \n",
       "max                  NaN              NaN           1.0        NaN   \n",
       "\n",
       "        Visibility   ImageCount  \n",
       "count       1000.0  1000.000000  \n",
       "unique         NaN          NaN  \n",
       "top            NaN          NaN  \n",
       "freq           NaN          NaN  \n",
       "mean           1.0     1.841000  \n",
       "std            0.0     0.365859  \n",
       "min            1.0     1.000000  \n",
       "25%            1.0     2.000000  \n",
       "50%            1.0     2.000000  \n",
       "75%            1.0     2.000000  \n",
       "max            1.0     2.000000  "
      ]
     },
     "execution_count": 585,
     "metadata": {},
     "output_type": "execute_result"
    }
   ],
   "source": [
    "data.describe(include='all')"
   ]
  },
  {
   "cell_type": "code",
   "execution_count": 587,
   "metadata": {},
   "outputs": [
    {
     "data": {
      "text/plain": [
       "<Axes: xlabel='SeriesInstanceUID'>"
      ]
     },
     "execution_count": 587,
     "metadata": {},
     "output_type": "execute_result"
    },
    {
     "data": {
      "image/png": "[encoded data removed]",
      "text/plain": [
       "<Figure size 1800x500 with 2 Axes>"
      ]
     },
     "metadata": {},
     "output_type": "display_data"
    }
   ],
   "source": [
    "plt.figure(figsize = (18,5))\n",
    "plt.subplot(1,2,2)\n",
    "sns.histplot(x = 'SeriesInstanceUID', data = data, kde = True)\n",
    "plt.subplot(1,2,1)\n",
    "sns.boxplot(x = 'SeriesInstanceUID', data = data)"
   ]
  },
  {
   "cell_type": "code",
   "execution_count": 588,
   "metadata": {
    "colab": {
     "base_uri": "https://localhost:8080/",
     "height": 564
    },
    "id": "GfA8QaxDDMqM",
    "outputId": "86c6b269-2445-4510-c09c-18c0d72095aa"
   },
   "outputs": [
    {
     "data": {
      "image/png": "[encoded data removed]",
      "text/plain": [
       "<Figure size 1200x600 with 1 Axes>"
      ]
     },
     "metadata": {},
     "output_type": "display_data"
    }
   ],
   "source": [
    "import matplotlib.pyplot as plt\n",
    "import seaborn as sns\n",
    "\n",
    "# Display distribution of the 'sub_category_1' column\n",
    "plt.figure(figsize=(12, 6))\n",
    "sns.countplot(y='Visibility', data=data, order = data['ImageCount'].value_counts().index)\n",
    "plt.title(\"breast Cancer \")\n",
    "plt.show()\n"
   ]
  },
  {
   "cell_type": "code",
   "execution_count": 589,
   "metadata": {
    "colab": {
     "base_uri": "https://localhost:8080/",
     "height": 720
    },
    "id": "pnwp684C9y-Q",
    "outputId": "d010f1f7-ef36-438f-e18d-c26c7e605f8e"
   },
   "outputs": [
    {
     "name": "stdout",
     "output_type": "stream",
     "text": [
      "Existing columns: ['SeriesInstanceUID', 'StudyInstanceUID', 'Modality', 'SeriesDescription', 'BodyPartExamined', 'SeriesNumber', 'Collection', 'Visibility', 'ImageCount']\n",
      "  Modality BodyPartExamined  SeriesNumber  Visibility  ImageCount  \\\n",
      "0       MG           BREAST             1           1           2   \n",
      "1       MG           BREAST             1           1           2   \n",
      "2       MG           BREAST             1           1           2   \n",
      "3       MG           BREAST             1           1           2   \n",
      "4       MG           BREAST             1           1           2   \n",
      "\n",
      "   SeriesInstanceUID_1.3.6.1.4.1.9590.100.1.2.101493470410482092525730380153954599203  \\\n",
      "0                                              False                                    \n",
      "1                                              False                                    \n",
      "2                                              False                                    \n",
      "3                                              False                                    \n",
      "4                                              False                                    \n",
      "\n",
      "   SeriesInstanceUID_1.3.6.1.4.1.9590.100.1.2.101687785712357341314062654912256197698  \\\n",
      "0                                              False                                    \n",
      "1                                              False                                    \n",
      "2                                              False                                    \n",
      "3                                              False                                    \n",
      "4                                              False                                    \n",
      "\n",
      "   SeriesInstanceUID_1.3.6.1.4.1.9590.100.1.2.101979994513111795025203250011046951602  \\\n",
      "0                                              False                                    \n",
      "1                                              False                                    \n",
      "2                                              False                                    \n",
      "3                                              False                                    \n",
      "4                                              False                                    \n",
      "\n",
      "   SeriesInstanceUID_1.3.6.1.4.1.9590.100.1.2.10220758511115978206909776823706616403  \\\n",
      "0                                              False                                   \n",
      "1                                              False                                   \n",
      "2                                              False                                   \n",
      "3                                              False                                   \n",
      "4                                              False                                   \n",
      "\n",
      "   SeriesInstanceUID_1.3.6.1.4.1.9590.100.1.2.103369236313674273230856562131142295728  \\\n",
      "0                                              False                                    \n",
      "1                                              False                                    \n",
      "2                                              False                                    \n",
      "3                                              False                                    \n",
      "4                                              False                                    \n",
      "\n",
      "   ...  \\\n",
      "0  ...   \n",
      "1  ...   \n",
      "2  ...   \n",
      "3  ...   \n",
      "4  ...   \n",
      "\n",
      "   StudyInstanceUID_1.3.6.1.4.1.9590.100.1.2.96603819212673957802003216962486474177  \\\n",
      "0                                              False                                  \n",
      "1                                              False                                  \n",
      "2                                              False                                  \n",
      "3                                              False                                  \n",
      "4                                              False                                  \n",
      "\n",
      "   StudyInstanceUID_1.3.6.1.4.1.9590.100.1.2.9751749611203177603169905973349616785  \\\n",
      "0                                              False                                 \n",
      "1                                              False                                 \n",
      "2                                              False                                 \n",
      "3                                              False                                 \n",
      "4                                              False                                 \n",
      "\n",
      "   StudyInstanceUID_1.3.6.1.4.1.9590.100.1.2.98211648712449732315778382264279295717  \\\n",
      "0                                              False                                  \n",
      "1                                              False                                  \n",
      "2                                              False                                  \n",
      "3                                              False                                  \n",
      "4                                              False                                  \n",
      "\n",
      "   StudyInstanceUID_1.3.6.1.4.1.9590.100.1.2.9844656311726895005121327460088823458  \\\n",
      "0                                              False                                 \n",
      "1                                              False                                 \n",
      "2                                              False                                 \n",
      "3                                              False                                 \n",
      "4                                              False                                 \n",
      "\n",
      "   StudyInstanceUID_1.3.6.1.4.1.9590.100.1.2.99165009312885519211791481780904578706  \\\n",
      "0                                              False                                  \n",
      "1                                              False                                  \n",
      "2                                              False                                  \n",
      "3                                              False                                  \n",
      "4                                              False                                  \n",
      "\n",
      "   StudyInstanceUID_1.3.6.1.4.1.9590.100.1.2.99368424711329550815439028761953468825  \\\n",
      "0                                              False                                  \n",
      "1                                              False                                  \n",
      "2                                              False                                  \n",
      "3                                              False                                  \n",
      "4                                              False                                  \n",
      "\n",
      "   StudyInstanceUID_1.3.6.1.4.1.9590.100.1.2.99946974010707268124549994500877087978  \\\n",
      "0                                              False                                  \n",
      "1                                              False                                  \n",
      "2                                              False                                  \n",
      "3                                              False                                  \n",
      "4                                              False                                  \n",
      "\n",
      "   StudyInstanceUID_1.3.6.1.4.1.9590.100.1.2.99950535311846998413050195381280351172  \\\n",
      "0                                              False                                  \n",
      "1                                              False                                  \n",
      "2                                              False                                  \n",
      "3                                              False                                  \n",
      "4                                              False                                  \n",
      "\n",
      "   SeriesDescription_cropped images  SeriesDescription_full mammogram images  \n",
      "0                             False                                    False  \n",
      "1                             False                                    False  \n",
      "2                             False                                    False  \n",
      "3                             False                                    False  \n",
      "4                             False                                    False  \n",
      "\n",
      "[5 rows x 3004 columns]\n"
     ]
    }
   ],
   "source": [
    "import pandas as pd\n",
    "\n",
    "def preprocessing(data):\n",
    "    # Print column names to verify\n",
    "    print(\"Existing columns:\", data.columns.tolist())\n",
    "    \n",
    "    # Define the correct column names based on your DataFrame\n",
    "    stops_column = 'ImageCount'  # Update this if the actual column name is different\n",
    "    class_column = 'Visibility'  # Update this if the actual column name is different\n",
    "    \n",
    "    # Check if the required columns exist\n",
    "    if stops_column not in data.columns:\n",
    "        raise KeyError(f\"Column '{stops_column}' is not found in the DataFrame.\")\n",
    "    if class_column not in data.columns:\n",
    "        raise KeyError(f\"Column '{class_column}' is not found in the DataFrame.\")\n",
    "    \n",
    "    # Encode the ordinal variables\n",
    "    data[stops_column] = data[stops_column].replace({'zero': 0, 'one': 1, 'two_or_more': 2}).astype(int)\n",
    "    data[class_column] = data[class_column].replace({'Economy': 0, 'Business': 1}).astype(int)\n",
    "    \n",
    "    # Create dummy variables for categorical features\n",
    "    dummies_variables = [\"SeriesInstanceUID\", \"StudyInstanceUID\", \"StudyInstanceUID\", \"SeriesDescription\", \"Collection\"]\n",
    "    dummies = pd.get_dummies(data[dummies_variables], drop_first=True)\n",
    "    \n",
    "    # Concatenate dummies with the original DataFrame\n",
    "    data = pd.concat([data, dummies], axis=1)\n",
    "    \n",
    "    # Drop the original categorical columns\n",
    "    data = data.drop(columns=dummies_variables)\n",
    "    \n",
    "    return data\n",
    "\n",
    "# Example usage\n",
    "data = pd.read_csv(r\"C:\\Users\\NWUUSER\\Downloads\\kdd\\meta.csv\",nrows=10000)\n",
    "data_preprocessed = preprocessing(data)\n",
    "print(data_preprocessed.head())\n"
   ]
  },
  {
   "cell_type": "code",
   "execution_count": 590,
   "metadata": {
    "colab": {
     "base_uri": "https://localhost:8080/"
    },
    "id": "MhbQOYqgJrYA",
    "outputId": "ef66540d-b625-4a07-8650-85f965b4ea48"
   },
   "outputs": [
    {
     "name": "stdout",
     "output_type": "stream",
     "text": [
      "Existing columns: ['SeriesInstanceUID', 'StudyInstanceUID', 'Modality', 'SeriesDescription', 'BodyPartExamined', 'SeriesNumber', 'Collection', 'Visibility', 'ImageCount']\n"
     ]
    }
   ],
   "source": [
    "data_preprocessed = preprocessing(data)"
   ]
  },
  {
   "cell_type": "code",
   "execution_count": 591,
   "metadata": {
    "colab": {
     "base_uri": "https://localhost:8080/"
    },
    "id": "9RJEE5QGAB2q",
    "outputId": "40622c61-5b99-4073-a4e2-90c534e7ea96"
   },
   "outputs": [
    {
     "name": "stdout",
     "output_type": "stream",
     "text": [
      "0    text\n",
      "1        \n",
      "2    None\n",
      "Name: Processed_Visibility, dtype: object\n",
      "Shape of the transformed matrix: (3, 2)\n"
     ]
    }
   ],
   "source": [
    "from sklearn.feature_extraction.text import TfidfVectorizer\n",
    "import pandas as pd\n",
    "\n",
    "# Example DataFrame\n",
    "data = pd.DataFrame({'Visibility': ['Some text', '', None]})\n",
    "\n",
    "# Preprocess and fill missing values\n",
    "data['Visibility'] = data['Visibility'].astype(str).fillna(\"\")\n",
    "\n",
    "# Optionally preprocess text\n",
    "def preprocess_text(text):\n",
    "    # Tokenize, lemmatize, and remove stop words if needed\n",
    "    tokens = word_tokenize(text)\n",
    "    tokens = [lemmatizer.lemmatize(token) for token in tokens if token.lower() not in stop_words]\n",
    "    return ' '.join(tokens)\n",
    "\n",
    "data['Processed_Visibility'] = data['Visibility'].apply(preprocess_text)\n",
    "\n",
    "# Check processed data\n",
    "print(data['Processed_Visibility'].head())\n",
    "\n",
    "# Apply TF-IDF Vectorizer\n",
    "vectorizer = TfidfVectorizer(stop_words=None)  # Adjust stop words parameter if necessary\n",
    "X = vectorizer.fit_transform(data['Processed_Visibility'])\n",
    "print(f\"Shape of the transformed matrix: {X.shape}\")\n"
   ]
  },
  {
   "cell_type": "code",
   "execution_count": 592,
   "metadata": {
    "colab": {
     "base_uri": "https://localhost:8080/"
    },
    "id": "d_a0U26pNvuC",
    "outputId": "5c1779f8-11f4-4be9-b4e4-e33f1de83368"
   },
   "outputs": [
    {
     "name": "stdout",
     "output_type": "stream",
     "text": [
      "ValueError occurred for SGDClassifier: The number of classes has to be greater than one; got 1 class\n",
      "ValueError occurred for Support Vector Machine: The number of classes has to be greater than one; got 1 class\n",
      "{'RandomForest': 1.0, 'K-Nearest Neighbors': 1.0, 'Decision Tree': 1.0}\n"
     ]
    }
   ],
   "source": [
    "import pandas as pd\n",
    "from sklearn.model_selection import train_test_split\n",
    "from sklearn.metrics import f1_score\n",
    "from sklearn.ensemble import RandomForestClassifier\n",
    "from sklearn.linear_model import SGDClassifier\n",
    "from sklearn.svm import SVC\n",
    "from sklearn.neighbors import KNeighborsClassifier\n",
    "from sklearn.tree import DecisionTreeClassifier\n",
    "from scipy.sparse import csr_matrix\n",
    "from sklearn.naive_bayes import GaussianNB\n",
    "\n",
    "# Load the data\n",
    "data = pd.read_csv(r\"C:\\Users\\NWUUSER\\Downloads\\kdd\\meta.csv\",nrows=10000)\n",
    "\n",
    "# Sample the data to reduce size (if needed)\n",
    "data_sampled = data.sample(frac=0.1, random_state=42)  # Use 10% of the data\n",
    "\n",
    "# Split data into features and target\n",
    "X = data_sampled.drop(columns='Visibility')  # Replace 'target' with your actual target column\n",
    "y = data_sampled['Visibility']  # Replace 'target' with your actual target column\n",
    "\n",
    "# Ensure all data in X is numeric\n",
    "X = X.apply(pd.to_numeric, errors='coerce')  # Convert non-numeric to NaN\n",
    "X = X.fillna(0)  # Replace NaNs with 0 or another appropriate value\n",
    "\n",
    "# Split data into training and test sets\n",
    "X_train, X_test, y_train, y_test = train_test_split(X, y, test_size=0.3, random_state=42)\n",
    "\n",
    "# Convert to sparse matrix if the data is sparse\n",
    "X_train_sparse = csr_matrix(X_train)\n",
    "X_test_sparse = csr_matrix(X_test)\n",
    "\n",
    "# Initialize classifiers\n",
    "classifiers = {\n",
    "    'RandomForest': RandomForestClassifier(),\n",
    "    'SGDClassifier': SGDClassifier(),\n",
    "    'Support Vector Machine': SVC(),\n",
    "    'K-Nearest Neighbors': KNeighborsClassifier(),\n",
    "    'Decision Tree': DecisionTreeClassifier()\n",
    "    \n",
    "}\n",
    "\n",
    "# Store F1 scores\n",
    "f1_scores = {}\n",
    "\n",
    "for name, clf in classifiers.items():\n",
    "    try:\n",
    "        # Fit the classifier\n",
    "        clf.fit(X_train_sparse, y_train)\n",
    "        # Predict on the test set\n",
    "        y_pred = clf.predict(X_test_sparse)\n",
    "        # Calculate F1 score\n",
    "        f1_scores[name] = f1_score(y_test, y_pred, average='weighted')\n",
    "    except MemoryError:\n",
    "        print(f\"MemoryError occurred for {name}\")\n",
    "    except ValueError as e:\n",
    "        print(f\"ValueError occurred for {name}: {e}\")\n",
    "\n",
    "# Output F1 scores\n",
    "print(f1_scores)"
   ]
  },
  {
   "cell_type": "code",
   "execution_count": 593,
   "metadata": {
    "colab": {
     "base_uri": "https://localhost:8080/"
    },
    "id": "WST84Aaa-u1C",
    "outputId": "7f0e342f-6d13-46fb-8b06-aad81f5adafd"
   },
   "outputs": [
    {
     "name": "stdout",
     "output_type": "stream",
     "text": [
      "Best model is RandomForest with F1 score of 1.0\n"
     ]
    }
   ],
   "source": [
    "best_model_name = max(f1_scores, key=f1_scores.get)\n",
    "print(f\"Best model is {best_model_name} with F1 score of {f1_scores[best_model_name]}\")"
   ]
  },
  {
   "cell_type": "code",
   "execution_count": null,
   "metadata": {},
   "outputs": [],
   "source": []
  }
 ],
 "metadata": {
  "colab": {
   "gpuType": "T4",
   "provenance": []
  },
  "kernelspec": {
   "display_name": "Python 3 (ipykernel)",
   "language": "python",
   "name": "python3"
  },
  "language_info": {
   "codemirror_mode": {
    "name": "ipython",
    "version": 3
   },
   "file_extension": ".py",
   "mimetype": "text/x-python",
   "name": "python",
   "nbconvert_exporter": "python",
   "pygments_lexer": "ipython3",
   "version": "3.12.4"
  }
 },
 "nbformat": 4,
 "nbformat_minor": 4
}
